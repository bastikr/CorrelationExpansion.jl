{
 "cells": [
  {
   "cell_type": "markdown",
   "metadata": {
    "deletable": true,
    "editable": true
   },
   "source": [
    "# Introduction into correlation expansion\n",
    "\n",
    "\n",
    "As example we will investigate a system consisting of 2 spins and 2 cavities in a linear arangement.\n",
    "\n",
    "```\n",
    "       /         \\     g2           g1           g2     /         \\\n",
    "----> (  cavity1  )   ---- [spin1] ---- [spin2] ----   (  cavity2  )\n",
    "  η    \\         /                                      \\         /        \n",
    "            (                 (           (                  (\n",
    "         κ1  )              γ  )        γ  )              κ2  )\n",
    "            (                 (           (                  (\n",
    "            v                 v           v                  v\n",
    "     \n",
    "```\n",
    "\n",
    "\n",
    "\n",
    " "
   ]
  },
  {
   "cell_type": "markdown",
   "metadata": {
    "deletable": true,
    "editable": true
   },
   "source": [
    "### Simulate the system in the usual way"
   ]
  },
  {
   "cell_type": "code",
   "execution_count": 1,
   "metadata": {
    "collapsed": false,
    "deletable": true,
    "editable": true
   },
   "outputs": [],
   "source": [
    "using PyPlot\n",
    "using QuantumOptics\n",
    "const ce = correlationexpansion;"
   ]
  },
  {
   "cell_type": "markdown",
   "metadata": {
    "deletable": true,
    "editable": true
   },
   "source": [
    "Define parameters"
   ]
  },
  {
   "cell_type": "code",
   "execution_count": 2,
   "metadata": {
    "collapsed": false,
    "deletable": true,
    "editable": true
   },
   "outputs": [],
   "source": [
    "Ncutoff = 3\n",
    "\n",
    "ωa = 0.1 # Spin transition frequency\n",
    "ωc = 0.2 # Cavity frequency\n",
    "η = 0.8 # Pumping strength\n",
    "g1 = 1. # Coupling spin-spin\n",
    "g2 = 1. # Coupling spin-cavity\n",
    "γ = 0.1 # Decay rate spin\n",
    "κ1 = 3. # Decay rate left cavity\n",
    "κ2 = 0.6 # Decay rate left cavity\n",
    "\n",
    "Γ = [κ1, γ, γ, κ2]\n",
    "\n",
    "T = [0:0.01:10;];"
   ]
  },
  {
   "cell_type": "markdown",
   "metadata": {
    "deletable": true,
    "editable": true
   },
   "source": [
    "Define bases and create common operators"
   ]
  },
  {
   "cell_type": "code",
   "execution_count": 3,
   "metadata": {
    "collapsed": false,
    "deletable": true,
    "editable": true
   },
   "outputs": [],
   "source": [
    "spinbasis = SpinBasis(1//2)\n",
    "fockbasis = FockBasis(Ncutoff)\n",
    "basis = fockbasis ⊗ spinbasis ⊗ spinbasis ⊗ fockbasis\n",
    "\n",
    "sz = sigmaz(spinbasis)\n",
    "sm = sigmam(spinbasis)\n",
    "sp = sigmap(spinbasis)\n",
    "\n",
    "a = destroy(fockbasis)\n",
    "at = create(fockbasis)\n",
    "n = at*a;"
   ]
  },
  {
   "cell_type": "markdown",
   "metadata": {
    "deletable": true,
    "editable": true
   },
   "source": [
    "Create Hamiltonian and Jump operators"
   ]
  },
  {
   "cell_type": "code",
   "execution_count": 4,
   "metadata": {
    "collapsed": false,
    "deletable": true,
    "editable": true
   },
   "outputs": [],
   "source": [
    "h1 = embed(basis, 1, ωc*n + η*(a + at)) # Left Cavity\n",
    "h2 = embed(basis, 2, ωa*sz) # Left Spin\n",
    "h3 = embed(basis, 3, ωa*sz) # Right Spin\n",
    "h4 = embed(basis, 4, ωc*n) # Right Cavity\n",
    "h12 = g2*embed(basis, [1,2], [a,sp]) + g2*embed(basis, [1,2], [at,sm]) # Left Cavity - Left Spin\n",
    "h23 = g1*embed(basis, [2,3], [sm,sp]) + g1*embed(basis, [2,3], [sp,sm]) # Left Spin - Middle Spin\n",
    "h34 = g2*embed(basis, [3,4], [sm,at]) + g2*embed(basis, [3,4], [sp,a]) # Right Spin - Right Cavity;\n",
    "\n",
    "Hsparse = h1 + h2 + h3 + h4 + h12 + h23 + h34\n",
    "\n",
    "j1 = embed(basis, 1, a) # Left Cavity\n",
    "j2 = embed(basis, 2, sm)  # Left Spin\n",
    "j3 = embed(basis, 3, sm) # Right Spin\n",
    "j4 = embed(basis, 4, a) # Right Cavity\n",
    "\n",
    "Jsparse = [j1, j2, j3, j4];"
   ]
  },
  {
   "cell_type": "markdown",
   "metadata": {
    "deletable": true,
    "editable": true
   },
   "source": [
    "Perform time evolution"
   ]
  },
  {
   "cell_type": "code",
   "execution_count": 5,
   "metadata": {
    "collapsed": false,
    "deletable": true,
    "editable": true
   },
   "outputs": [
    {
     "name": "stdout",
     "output_type": "stream",
     "text": [
      "  1.149801 seconds (841.63 k allocations: 98.668 MB, 3.28% gc time)\n"
     ]
    }
   ],
   "source": [
    "Ψspin = spindown(spinbasis)\n",
    "Ψfock = fockstate(fockbasis, 0)\n",
    "Ψ₀ = Ψfock ⊗ Ψspin ⊗ Ψspin ⊗ Ψfock\n",
    "\n",
    "@time tout, ρ_t = timeevolution.master(T, Ψ₀, Hsparse, Jsparse; Gamma=Γ);"
   ]
  },
  {
   "cell_type": "markdown",
   "metadata": {
    "deletable": true,
    "editable": true
   },
   "source": [
    "Define helper functions to easily calculate photonnumbers and spin excitations"
   ]
  },
  {
   "cell_type": "code",
   "execution_count": 6,
   "metadata": {
    "collapsed": false,
    "deletable": true,
    "editable": true
   },
   "outputs": [],
   "source": [
    "photons1(ρ_t) = [real(expect(n, ptrace(ρ, [2,3,4]))) for ρ in ρ_t]\n",
    "photons2(ρ_t) = [real(expect(n, ptrace(ρ, [1,2,3]))) for ρ in ρ_t]\n",
    "excitations1(ρ_t) = [real(expect(sz, ptrace(ρ, [1,3,4]))) for ρ in ρ_t]\n",
    "excitations2(ρ_t) = [real(expect(sz, ptrace(ρ, [1,2,4]))) for ρ in ρ_t];"
   ]
  },
  {
   "cell_type": "markdown",
   "metadata": {
    "deletable": true,
    "editable": true
   },
   "source": [
    "Plot time evolution of photonnumbers and excitations"
   ]
  },
  {
   "cell_type": "code",
   "execution_count": 7,
   "metadata": {
    "collapsed": false,
    "deletable": true,
    "editable": true
   },
   "outputs": [
    {
     "data": {
      "image/png": "[encoded data removed]",
      "text/plain": [
       "PyPlot.Figure(PyObject <matplotlib.figure.Figure object at 0x7fd1058fc0b8>)"
      ]
     },
     "metadata": {},
     "output_type": "display_data"
    }
   ],
   "source": [
    "figure(figsize=[10,3])\n",
    "subplot(1,2,1)\n",
    "plot(tout, photons1(ρ_t))\n",
    "plot(tout, photons2(ρ_t))\n",
    "\n",
    "subplot(1,2,2)\n",
    "plot(tout, excitations1(ρ_t))\n",
    "plot(tout, excitations2(ρ_t));"
   ]
  },
  {
   "cell_type": "markdown",
   "metadata": {
    "deletable": true,
    "editable": true
   },
   "source": [
    "### Analyze correlations occuring in this system\n",
    "\n",
    "We can use the correlation function to calculate the pairwise correlations specified by the given indices."
   ]
  },
  {
   "cell_type": "code",
   "execution_count": 8,
   "metadata": {
    "collapsed": false,
    "deletable": true,
    "editable": true
   },
   "outputs": [],
   "source": [
    "C(ρ_t, indices) = [tracenorm_general(ce.correlation(ρ, indices)) for ρ in ρ_t];"
   ]
  },
  {
   "cell_type": "code",
   "execution_count": 9,
   "metadata": {
    "collapsed": false,
    "deletable": true,
    "editable": true
   },
   "outputs": [
    {
     "data": {
      "image/png": "[encoded data removed]",
      "text/plain": [
       "PyPlot.Figure(PyObject <matplotlib.figure.Figure object at 0x7fd126200518>)"
      ]
     },
     "metadata": {},
     "output_type": "display_data"
    }
   ],
   "source": [
    "figure(figsize=[5,3])\n",
    "ylim(0, 1)\n",
    "\n",
    "plot(tout, C(ρ_t, [1,2]))\n",
    "plot(tout, C(ρ_t, [1,3]))\n",
    "plot(tout, C(ρ_t, [1,4]));"
   ]
  },
  {
   "cell_type": "markdown",
   "metadata": {
    "deletable": true,
    "editable": true
   },
   "source": [
    "When calculating several higher order correlations it is more efficient to calculate them all at once by creating a CorrelationExpansion using the approximate function. Which correlations are included is specified by the indices generated by the masks function. In this case it returns all triple correlations for 4 subsystems."
   ]
  },
  {
   "cell_type": "code",
   "execution_count": 10,
   "metadata": {
    "collapsed": false,
    "deletable": true,
    "editable": true
   },
   "outputs": [
    {
     "data": {
      "image/png": "[encoded data removed]",
      "text/plain": [
       "PyPlot.Figure(PyObject <matplotlib.figure.Figure object at 0x7fd1261eb2e8>)"
      ]
     },
     "metadata": {},
     "output_type": "display_data"
    }
   ],
   "source": [
    "ρce_t = [ce.approximate(ρ, ce.masks(4, 3)) for ρ in ρ_t];\n",
    "\n",
    "figure(figsize=[5,3])\n",
    "ylim(0, 1)\n",
    "\n",
    "plot(tout, C(ρce_t, [1,2,3]))\n",
    "plot(tout, C(ρce_t, [1,2,4]))\n",
    "plot(tout, C(ρce_t, [1,3,4]))\n",
    "plot(tout, C(ρce_t, [2,3,4]));"
   ]
  },
  {
   "cell_type": "markdown",
   "metadata": {
    "deletable": true,
    "editable": true
   },
   "source": [
    "## Simulate the system using only certain correlations\n",
    "\n",
    "In this case we don't want to create operators living in the total Hilbert space. Instead we specify them as sum of lazy tensors to avoid the exponential explosion of their size. The syntax is extremely similar to the usual case and mostly consists in replacing the embed function with a LazyTensor."
   ]
  },
  {
   "cell_type": "code",
   "execution_count": 11,
   "metadata": {
    "collapsed": false,
    "deletable": true,
    "editable": true
   },
   "outputs": [],
   "source": [
    "h1 = LazyTensor(basis, 1, ωc*n + η*(a + at)) # Left Cavity\n",
    "h2 = LazyTensor(basis, 2, ωa*sz) # Left Spin\n",
    "h3 = LazyTensor(basis, 3, ωa*sz) # Right Spin\n",
    "h4 = LazyTensor(basis, 4, ωc*n) # Right Cavity\n",
    "h12 = g2*LazyTensor(basis, [1,2], [a,sp])\n",
    "h21 = g2*LazyTensor(basis, [1,2], [at,sm]) # Left Cavity - Left Spin\n",
    "h23 = g1*LazyTensor(basis, [2,3], [sm,sp])\n",
    "h32 = g1*LazyTensor(basis, [2,3], [sp,sm]) # Left Spin - Middle Spin\n",
    "h34 = g2*LazyTensor(basis, [3,4], [sm,at])\n",
    "h43 = g2*LazyTensor(basis, [3,4], [sp,a]) # Right Spin - Right Cavity\n",
    "\n",
    "H = LazySum(h1, h2, h3, h4, h12, h21, h23, h32, h34, h43)\n",
    "\n",
    "j1 = LazyTensor(basis, 1, a) # Left Cavity\n",
    "j2 = LazyTensor(basis, 2, sm) # Left Spin\n",
    "j3 = LazyTensor(basis, 3, sm) # Right Spin\n",
    "j4 = LazyTensor(basis, 4, a) # Right Cavity\n",
    "\n",
    "J = [j1, j2, j3, j4];"
   ]
  },
  {
   "cell_type": "markdown",
   "metadata": {
    "deletable": true,
    "editable": true
   },
   "source": [
    "It can easily be verified that these are indeed the same as the previously defined sparse operators."
   ]
  },
  {
   "cell_type": "code",
   "execution_count": 12,
   "metadata": {
    "collapsed": true,
    "deletable": true,
    "editable": true
   },
   "outputs": [],
   "source": [
    "@assert sparse(H) == Hsparse\n",
    "for i in 1:4\n",
    "    @assert sparse(J[i]) == Jsparse[i]\n",
    "end"
   ]
  },
  {
   "cell_type": "markdown",
   "metadata": {
    "deletable": true,
    "editable": true
   },
   "source": [
    "Now we have to choose which correlations we want to include. A correlation is specified by a vector containing the indices of the involved subsystems. The mask function simplifies to produce all correlations of a certain order."
   ]
  },
  {
   "cell_type": "code",
   "execution_count": 13,
   "metadata": {
    "collapsed": true,
    "deletable": true,
    "editable": true
   },
   "outputs": [],
   "source": [
    "S2 = ce.masks(4,2) # All pairwise correlations\n",
    "S3 = ce.masks(4,3) # All triple correlations\n",
    "\n",
    "S2_ = [[1,2], [1,3], [2,3], [2,4], [3,4]] # All pairwise correlations but the cavity-cavity correlation\n",
    "S3_ = [[1,2,3], [2,3,4]] # All triple correlations not containing both cavities;"
   ]
  },
  {
   "cell_type": "markdown",
   "metadata": {
    "deletable": true,
    "editable": true
   },
   "source": [
    "With these correlations we can create according CorrelationExpansion operators as initial condition. Again we avoid calculating a dense operator living in the total Hilbert space."
   ]
  },
  {
   "cell_type": "code",
   "execution_count": 14,
   "metadata": {
    "collapsed": false,
    "deletable": true,
    "editable": true
   },
   "outputs": [],
   "source": [
    "Ψspin = spindown(spinbasis)\n",
    "Ψfock = fockstate(fockbasis, 0)\n",
    "ρspin = Ψspin ⊗ dagger(Ψspin)\n",
    "ρfock = Ψfock ⊗ dagger(Ψfock)\n",
    "\n",
    "operators = [ρfock, ρspin, ρspin, ρfock]\n",
    "\n",
    "ρce_order1 = ce.CorrelationExpansion(operators) # No correlations\n",
    "ρce_order2 = ce.CorrelationExpansion(operators, S2)\n",
    "ρce_select2 = ce.CorrelationExpansion(operators, S2_)\n",
    "ρce_order3 = ce.CorrelationExpansion(operators, S2 ∪ S3)\n",
    "ρce_select3 = ce.CorrelationExpansion(operators, S2_ ∪ S3_);"
   ]
  },
  {
   "cell_type": "markdown",
   "metadata": {
    "deletable": true,
    "editable": true
   },
   "source": [
    "The syntax to perform the time evolution is completely equivalent to the usual case."
   ]
  },
  {
   "cell_type": "code",
   "execution_count": 15,
   "metadata": {
    "collapsed": false,
    "deletable": true,
    "editable": true
   },
   "outputs": [
    {
     "name": "stdout",
     "output_type": "stream",
     "text": [
      "  1.769476 seconds (1.50 M allocations: 68.557 MB, 1.18% gc time)\n",
      "  2.582368 seconds (25.84 M allocations: 1.933 GB, 12.70% gc time)\n",
      "  1.812655 seconds (20.59 M allocations: 1.376 GB, 10.49% gc time)\n",
      " 11.536023 seconds (75.07 M allocations: 10.483 GB, 11.46% gc time)\n",
      "  4.947075 seconds (43.21 M allocations: 3.643 GB, 11.29% gc time)\n"
     ]
    }
   ],
   "source": [
    "@time tout, ρce_order1_t = ce.master(T, ρce_order1, H, J; Gamma=Γ)\n",
    "@time tout, ρce_order2_t = ce.master(T, ρce_order2, H, J; Gamma=Γ)\n",
    "@time tout, ρce_select2_t = ce.master(T, ρce_select2, H, J; Gamma=Γ)\n",
    "@time tout, ρce_order3_t = ce.master(T, ρce_order3, H, J; Gamma=Γ)\n",
    "@time tout, ρce_select3_t = ce.master(T, ρce_select3, H, J; Gamma=Γ);"
   ]
  },
  {
   "cell_type": "markdown",
   "metadata": {
    "deletable": true,
    "editable": true
   },
   "source": [
    "We can now compare the different approaches"
   ]
  },
  {
   "cell_type": "code",
   "execution_count": 16,
   "metadata": {
    "collapsed": false,
    "deletable": true,
    "editable": true
   },
   "outputs": [
    {
     "data": {
      "image/png": "[encoded data removed]",
      "text/plain": [
       "PyPlot.Figure(PyObject <matplotlib.figure.Figure object at 0x7fd127326438>)"
      ]
     },
     "metadata": {},
     "output_type": "display_data"
    }
   ],
   "source": [
    "figure(figsize=[10,3])\n",
    "subplot(1,2,1)\n",
    "plot(tout, photons1(ρ_t), alpha=0.9)\n",
    "plot(tout, photons1(ρce_order1_t), \":\")\n",
    "plot(tout, photons1(ρce_order2_t), \"C2--\", alpha=0.5)\n",
    "plot(tout, photons1(ρce_select2_t), \"C2-.\", alpha=0.9)\n",
    "plot(tout, photons1(ρce_order3_t), \"C3--\", alpha=0.5)\n",
    "plot(tout, photons1(ρce_select3_t), \"C3-.\", alpha=0.9)\n",
    "\n",
    "\n",
    "subplot(1,2,2)\n",
    "plot(tout, photons2(ρ_t), alpha=0.9)\n",
    "plot(tout, photons2(ρce_order1_t), \":\")\n",
    "plot(tout, photons2(ρce_order2_t), \"C2--\", alpha=0.5)\n",
    "plot(tout, photons2(ρce_select2_t), \"C2-.\", alpha=0.9)\n",
    "plot(tout, photons2(ρce_order3_t), \"C3--\", alpha=0.5)\n",
    "plot(tout, photons2(ρce_select3_t), \"C3-.\", alpha=0.9);"
   ]
  },
  {
   "cell_type": "markdown",
   "metadata": {
    "deletable": true,
    "editable": true
   },
   "source": [
    "## Simulate the system for high photon numbers\n",
    "\n",
    "For the previous case where the cutoff of the cavity photons was chosen extremely small the correlation expansion approach was much slower. However, already"
   ]
  },
  {
   "cell_type": "code",
   "execution_count": 17,
   "metadata": {
    "collapsed": false,
    "deletable": true,
    "editable": true
   },
   "outputs": [],
   "source": [
    "photons1_(ρ_t) = [real(expect(number(ρ_t[1].basis_l.bases[1]), ptrace(ρ, [2,3,4]))) for ρ in ρ_t]\n",
    "photons2_(ρ_t) = [real(expect(number(ρ_t[1].basis_l.bases[4]), ptrace(ρ, [1,2,3]))) for ρ in ρ_t];"
   ]
  },
  {
   "cell_type": "code",
   "execution_count": 18,
   "metadata": {
    "collapsed": false,
    "deletable": true,
    "editable": true
   },
   "outputs": [],
   "source": [
    "function create_operators(params)\n",
    "    Ncutoff = params[\"Ncutoff\"]\n",
    "    ωc = params[\"ωc\"]\n",
    "    ωa = params[\"ωa\"]\n",
    "    η = params[\"η\"]\n",
    "    g1 = params[\"g1\"]\n",
    "    g2 = params[\"g2\"]\n",
    "    γ = params[\"γ\"]\n",
    "    κ1 = params[\"κ1\"]\n",
    "    κ2 = params[\"κ2\"]\n",
    "    Γ = [κ1, γ, γ, κ2]\n",
    "    \n",
    "    spinbasis = SpinBasis(1//2)\n",
    "    fockbasis = FockBasis(Ncutoff)\n",
    "    basis = fockbasis ⊗ spinbasis ⊗ spinbasis ⊗ fockbasis\n",
    "\n",
    "    sz = sigmaz(spinbasis)\n",
    "    sm = sigmam(spinbasis)\n",
    "    sp = sigmap(spinbasis)\n",
    "\n",
    "    a = destroy(fockbasis)\n",
    "    at = create(fockbasis)\n",
    "    n = at*a;\n",
    "    \n",
    "    H = LazySum(\n",
    "            LazyTensor(basis, 1, ωc*n + η*(a + at)), # Left Cavity\n",
    "            LazyTensor(basis, 2, ωa*sz), # Left Spin\n",
    "            LazyTensor(basis, 3, ωa*sz), # Right Spin\n",
    "            LazyTensor(basis, 4, ωc*n), # Right Cavity\n",
    "            g2*LazyTensor(basis, [1,2], [a,sp]), g2*LazyTensor(basis, [1,2], [at,sm]), # Left Cavity - Left Spin\n",
    "            g1*LazyTensor(basis, [2,3], [sm,sp]), g1*LazyTensor(basis, [2,3], [sp,sm]), # Left Spin - Middle Spin\n",
    "            g2*LazyTensor(basis, [3,4], [sm,at]), g2*LazyTensor(basis, [3,4], [sp,a]), # Right Spin - Right Cavity\n",
    "    )\n",
    "\n",
    "    J = LazyTensor[\n",
    "        LazyTensor(basis, 1, a), # Left Cavity\n",
    "        LazyTensor(basis, 2, sm), # Left Spin\n",
    "        LazyTensor(basis, 3, sm), # Right Spin\n",
    "        LazyTensor(basis, 4, a) # Right Cavity\n",
    "    ]\n",
    "    H, Γ, J\n",
    "end\n",
    "\n",
    "function create_initialstate(S, params)\n",
    "    spinbasis = SpinBasis(1//2)\n",
    "    fockbasis = FockBasis(params[\"Ncutoff\"])\n",
    "    basis = fockbasis ⊗ spinbasis ⊗ spinbasis ⊗ fockbasis\n",
    "    \n",
    "    Ψfock = fockstate(fockbasis, 0)\n",
    "    ρfock = Ψfock ⊗ dagger(Ψfock)\n",
    "    Ψspin = spindown(spinbasis)\n",
    "    ρspin = Ψspin ⊗ dagger(Ψspin)\n",
    "    ce.CorrelationExpansion([ρfock, ρspin, ρspin, ρfock], S)\n",
    "end\n",
    "\n",
    "function ce_timeevolution(S, params)\n",
    "    H, Γ, J = create_operators(params)\n",
    "    ρce = create_initialstate(S, params)\n",
    "    ce.master(params[\"T\"], ρce, H, J; Gamma=Γ)\n",
    "end;\n",
    "\n",
    "function sparse_timeevolution(params)\n",
    "    H, Γ, J = create_operators(params)\n",
    "    ρ = full(create_initialstate([], params))\n",
    "    timeevolution.master(params[\"T\"], ρ, sparse(H), [sparse(j) for j in J]; Gamma=Γ)\n",
    "end;"
   ]
  },
  {
   "cell_type": "code",
   "execution_count": 19,
   "metadata": {
    "collapsed": false,
    "deletable": true,
    "editable": true
   },
   "outputs": [],
   "source": [
    "P = Dict(\n",
    "    \"Ncutoff\" => 3,\n",
    "    \"ωa\" => 0.1, # Spin transition frequency\n",
    "    \"ωc\" => 0.2, # Cavity frequency;\n",
    "    \"η\" => 1., # Pumping strength\n",
    "    \"g1\" => 0.5, # Coupling spin-spin\n",
    "    \"g2\" => 0.5, # Coupling spin-cavity\n",
    "    \"γ\" => 0.3, # Decay rate spin\n",
    "    \"κ1\" => 1., # Decay rate left cavity\n",
    "    \"κ2\" => 0.6, # Decay rate left cavity\n",
    "    \"T\" => [0:0.01:10;]\n",
    ");"
   ]
  },
  {
   "cell_type": "code",
   "execution_count": 20,
   "metadata": {
    "collapsed": false,
    "deletable": true,
    "editable": true
   },
   "outputs": [
    {
     "name": "stdout",
     "output_type": "stream",
     "text": [
      "  0.434806 seconds (220.93 k allocations: 73.422 MB, 4.15% gc time)\n",
      "  0.113378 seconds (371.42 k allocations: 21.430 MB, 20.73% gc time)\n",
      "  2.499886 seconds (24.08 M allocations: 1.804 GB, 15.94% gc time)\n",
      "  1.721786 seconds (18.98 M allocations: 1.274 GB, 12.67% gc time)\n",
      "  4.901590 seconds (39.82 M allocations: 3.359 GB, 14.57% gc time)\n"
     ]
    }
   ],
   "source": [
    "P[\"Ncutoff\"] = 3\n",
    "\n",
    "@time tout, ρ_t = sparse_timeevolution(P);\n",
    "@time tout, ρce_order1_t = ce_timeevolution([], P);\n",
    "@time tout, ρce_order2_t = ce_timeevolution(S2, P);\n",
    "@time tout, ρce_select2_t = ce_timeevolution(S2_, P);\n",
    "@time tout, ρce_select3_t = ce_timeevolution(S2_ ∪ S3_, P);"
   ]
  },
  {
   "cell_type": "code",
   "execution_count": 21,
   "metadata": {
    "collapsed": false,
    "deletable": true,
    "editable": true
   },
   "outputs": [
    {
     "name": "stdout",
     "output_type": "stream",
     "text": [
      "  6.856357 seconds (48.02 k allocations: 1.589 GB, 35.05% gc time)\n",
      "  0.152071 seconds (377.24 k allocations: 26.949 MB, 56.76% gc time)\n",
      "  6.549433 seconds (24.57 M allocations: 8.337 GB, 17.36% gc time)\n",
      "  2.605871 seconds (20.28 M allocations: 2.211 GB, 15.68% gc time)\n",
      "  8.950093 seconds (44.13 M allocations: 8.500 GB, 16.48% gc time)\n"
     ]
    }
   ],
   "source": [
    "P[\"Ncutoff\"] = 8\n",
    "\n",
    "@time tout, ρ_t = sparse_timeevolution(P);\n",
    "@time tout, ρce_order1_t = ce_timeevolution([], P);\n",
    "@time tout, ρce_order2_t = ce_timeevolution(S2, P);\n",
    "@time tout, ρce_select2_t = ce_timeevolution(S2_, P);\n",
    "@time tout, ρce_select3_t = ce_timeevolution(S2_ ∪ S3_, P);"
   ]
  },
  {
   "cell_type": "code",
   "execution_count": 22,
   "metadata": {
    "collapsed": false,
    "deletable": true,
    "editable": true
   },
   "outputs": [
    {
     "name": "stdout",
     "output_type": "stream",
     "text": [
      "  0.307763 seconds (749.91 k allocations: 117.981 MB, 5.79% gc time)\n",
      " 22.879711 seconds (44.32 M allocations: 29.226 GB, 16.33% gc time)\n",
      "107.174850 seconds (94.73 M allocations: 155.481 GB, 18.92% gc time)\n"
     ]
    }
   ],
   "source": [
    "P[\"Ncutoff\"] = 30\n",
    "\n",
    "@time tout, ρce_order1_t = ce_timeevolution([], P);\n",
    "# @time tout, ρce_order2_t = ce_timeevolution(S2, P);\n",
    "@time tout, ρce_select2_t = ce_timeevolution(S2_, P);\n",
    "@time tout, ρce_select3_t = ce_timeevolution(S2_ ∪ S3_, P);"
   ]
  },
  {
   "cell_type": "code",
   "execution_count": null,
   "metadata": {
    "collapsed": false,
    "deletable": true,
    "editable": true
   },
   "outputs": [],
   "source": [
    "figure(figsize=[10,3])\n",
    "subplot(1,2,1)\n",
    "plot(tout, photons1_(ρ_t), alpha=0.9)\n",
    "plot(tout, photons1_(ρce_order1_t), \":\")\n",
    "plot(tout, photons1_(ρce_order2_t), \"C2--\", alpha=0.5)\n",
    "plot(tout, photons1_(ρce_select2_t), \"C2-.\", alpha=0.9)\n",
    "# plot(tout, photons1(ρce_order3_t), \"C3--\", alpha=0.5)\n",
    "plot(tout, photons1_(ρce_select3_t), \"C3-.\", alpha=0.9)\n",
    "\n",
    "\n",
    "subplot(1,2,2)\n",
    "plot(tout, photons2_(ρ_t), alpha=0.9)\n",
    "plot(tout, photons2_(ρce_order1_t), \":\")\n",
    "plot(tout, photons2_(ρce_order2_t), \"C2--\", alpha=0.5)\n",
    "plot(tout, photons2_(ρce_select2_t), \"C2-.\", alpha=0.9)\n",
    "# plot(tout, photons2(ρce_order3_t), \"C3--\", alpha=0.5)\n",
    "plot(tout, photons2_(ρce_select3_t), \"C3-.\", alpha=0.9);"
   ]
  },
  {
   "cell_type": "code",
   "execution_count": null,
   "metadata": {
    "collapsed": true,
    "deletable": true,
    "editable": true
   },
   "outputs": [],
   "source": []
  }
 ],
 "metadata": {
  "kernelspec": {
   "display_name": "Julia 0.5.1",
   "language": "julia",
   "name": "julia-0.5"
  },
  "language_info": {
   "file_extension": ".jl",
   "mimetype": "application/julia",
   "name": "julia",
   "version": "0.5.1"
  }
 },
 "nbformat": 4,
 "nbformat_minor": 2
}

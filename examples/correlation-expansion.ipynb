{
 "cells": [
  {
   "cell_type": "markdown",
   "metadata": {},
   "source": [
    "# Introduction into correlation expansion\n",
    "\n",
    "\n",
    "As example we will investigate a system consisting of 2 spins and 2 cavities in a linear arangement.\n",
    "\n",
    "```\n",
    "       /         \\     g2           g1           g2     /         \\\n",
    "----> (  cavity1  )   ---- [spin1] ---- [spin2] ----   (  cavity2  )\n",
    "  η    \\         /                                      \\         /        \n",
    "            (                 (           (                  (\n",
    "         κ1  )              γ  )        γ  )              κ2  )\n",
    "            (                 (           (                  (\n",
    "            v                 v           v                  v\n",
    "     \n",
    "```\n",
    "\n",
    "\n",
    "\n",
    " "
   ]
  },
  {
   "cell_type": "markdown",
   "metadata": {},
   "source": [
    "### Simulate the system in the usual way"
   ]
  },
  {
   "cell_type": "code",
   "execution_count": null,
   "metadata": {},
   "outputs": [],
   "source": [
    "using QuantumOptics\n",
    "using CorrelationExpansion\n",
    "using PyPlot\n",
    "const ce = CorrelationExpansion;"
   ]
  },
  {
   "cell_type": "markdown",
   "metadata": {},
   "source": [
    "Define parameters"
   ]
  },
  {
   "cell_type": "code",
   "execution_count": null,
   "metadata": {},
   "outputs": [],
   "source": [
    "Ncutoff = 3\n",
    "\n",
    "ωa = 0.1 # Spin transition frequency\n",
    "ωc = 0.2 # Cavity frequency\n",
    "η = 0.8 # Pumping strength\n",
    "g1 = 1. # Coupling spin-spin\n",
    "g2 = 1. # Coupling spin-cavity\n",
    "γ = 0.1 # Decay rate spin\n",
    "κ1 = 3. # Decay rate left cavity\n",
    "κ2 = 0.6 # Decay rate left cavity\n",
    "\n",
    "Γ = [κ1, γ, γ, κ2]\n",
    "\n",
    "T = [0:0.01:10;];"
   ]
  },
  {
   "cell_type": "markdown",
   "metadata": {},
   "source": [
    "Define bases and create common operators"
   ]
  },
  {
   "cell_type": "code",
   "execution_count": null,
   "metadata": {},
   "outputs": [],
   "source": [
    "spinbasis = SpinBasis(1//2)\n",
    "fockbasis = FockBasis(Ncutoff)\n",
    "basis = fockbasis ⊗ spinbasis ⊗ spinbasis ⊗ fockbasis\n",
    "\n",
    "sz = sigmaz(spinbasis)\n",
    "sm = sigmam(spinbasis)\n",
    "sp = sigmap(spinbasis)\n",
    "\n",
    "a = destroy(fockbasis)\n",
    "at = create(fockbasis)\n",
    "n = at*a;"
   ]
  },
  {
   "cell_type": "markdown",
   "metadata": {},
   "source": [
    "Create Hamiltonian and Jump operators"
   ]
  },
  {
   "cell_type": "code",
   "execution_count": null,
   "metadata": {},
   "outputs": [],
   "source": [
    "h1 = embed(basis, 1, ωc*n + η*(a + at)) # Left Cavity\n",
    "h2 = embed(basis, 2, ωa*sz) # Left Spin\n",
    "h3 = embed(basis, 3, ωa*sz) # Right Spin\n",
    "h4 = embed(basis, 4, ωc*n) # Right Cavity\n",
    "h12 = g2*embed(basis, [1,2], [a,sp]) + g2*embed(basis, [1,2], [at,sm]) # Left Cavity - Left Spin\n",
    "h23 = g1*embed(basis, [2,3], [sm,sp]) + g1*embed(basis, [2,3], [sp,sm]) # Left Spin - Middle Spin\n",
    "h34 = g2*embed(basis, [3,4], [sm,at]) + g2*embed(basis, [3,4], [sp,a]) # Right Spin - Right Cavity;\n",
    "\n",
    "Hsparse = h1 + h2 + h3 + h4 + h12 + h23 + h34\n",
    "\n",
    "j1 = embed(basis, 1, a) # Left Cavity\n",
    "j2 = embed(basis, 2, sm)  # Left Spin\n",
    "j3 = embed(basis, 3, sm) # Right Spin\n",
    "j4 = embed(basis, 4, a) # Right Cavity\n",
    "\n",
    "Jsparse = [j1, j2, j3, j4];"
   ]
  },
  {
   "cell_type": "markdown",
   "metadata": {},
   "source": [
    "Perform time evolution"
   ]
  },
  {
   "cell_type": "code",
   "execution_count": null,
   "metadata": {},
   "outputs": [],
   "source": [
    "Ψspin = spindown(spinbasis)\n",
    "Ψfock = fockstate(fockbasis, 0)\n",
    "Ψ₀ = Ψfock ⊗ Ψspin ⊗ Ψspin ⊗ Ψfock\n",
    "\n",
    "@time tout, ρ_t = timeevolution.master(T, Ψ₀, Hsparse, Jsparse; rates=Γ);"
   ]
  },
  {
   "cell_type": "markdown",
   "metadata": {},
   "source": [
    "Define helper functions to easily calculate photonnumbers and spin excitations"
   ]
  },
  {
   "cell_type": "code",
   "execution_count": null,
   "metadata": {},
   "outputs": [],
   "source": [
    "photons1(ρ_t) = [real(expect(n, ptrace(ρ, [2,3,4]))) for ρ in ρ_t]\n",
    "photons2(ρ_t) = [real(expect(n, ptrace(ρ, [1,2,3]))) for ρ in ρ_t]\n",
    "excitations1(ρ_t) = [real(expect(sz, ptrace(ρ, [1,3,4]))) for ρ in ρ_t]\n",
    "excitations2(ρ_t) = [real(expect(sz, ptrace(ρ, [1,2,4]))) for ρ in ρ_t];"
   ]
  },
  {
   "cell_type": "markdown",
   "metadata": {},
   "source": [
    "Plot time evolution of photonnumbers and excitations"
   ]
  },
  {
   "cell_type": "code",
   "execution_count": null,
   "metadata": {},
   "outputs": [],
   "source": [
    "figure(figsize=[10,3])\n",
    "subplot(1,2,1)\n",
    "plot(tout, photons1(ρ_t))\n",
    "plot(tout, photons2(ρ_t))\n",
    "\n",
    "subplot(1,2,2)\n",
    "plot(tout, excitations1(ρ_t))\n",
    "plot(tout, excitations2(ρ_t));"
   ]
  },
  {
   "cell_type": "markdown",
   "metadata": {},
   "source": [
    "### Analyze correlations occuring in this system\n",
    "\n",
    "We can use the correlation function to calculate the pairwise correlations specified by the given indices."
   ]
  },
  {
   "cell_type": "code",
   "execution_count": null,
   "metadata": {},
   "outputs": [],
   "source": [
    "C(ρ_t, indices) = [tracenorm_general(ce.correlation(ρ, indices)) for ρ in ρ_t];"
   ]
  },
  {
   "cell_type": "code",
   "execution_count": null,
   "metadata": {},
   "outputs": [],
   "source": [
    "figure(figsize=[5,3])\n",
    "ylim(0, 1)\n",
    "\n",
    "plot(tout, C(ρ_t, [1,2]))\n",
    "plot(tout, C(ρ_t, [1,3]))\n",
    "plot(tout, C(ρ_t, [1,4]));"
   ]
  },
  {
   "cell_type": "markdown",
   "metadata": {},
   "source": [
    "When calculating several higher order correlations it is more efficient to calculate them all at once by creating a CorrelationExpansion using the approximate function. Which correlations are included is specified by the indices generated by the masks function. In this case it returns all triple correlations for 4 subsystems."
   ]
  },
  {
   "cell_type": "code",
   "execution_count": null,
   "metadata": {},
   "outputs": [],
   "source": [
    "ρce_t = [ce.approximate(ρ, ce.masks(4, 3)) for ρ in ρ_t];\n",
    "\n",
    "figure(figsize=[5,3])\n",
    "ylim(0, 1)\n",
    "\n",
    "plot(tout, C(ρce_t, [1,2,3]))\n",
    "plot(tout, C(ρce_t, [1,2,4]))\n",
    "plot(tout, C(ρce_t, [1,3,4]))\n",
    "plot(tout, C(ρce_t, [2,3,4]));"
   ]
  },
  {
   "cell_type": "markdown",
   "metadata": {},
   "source": [
    "## Simulate the system using only certain correlations\n",
    "\n",
    "In this case we don't want to create operators living in the total Hilbert space. Instead we specify them as sum of lazy tensors to avoid the exponential explosion of their size. The syntax is extremely similar to the usual case and mostly consists in replacing the embed function with a LazyTensor."
   ]
  },
  {
   "cell_type": "code",
   "execution_count": null,
   "metadata": {},
   "outputs": [],
   "source": [
    "h1 = LazyTensor(basis, 1, ωc*n + η*(a + at)) # Left Cavity\n",
    "h2 = LazyTensor(basis, 2, ωa*sz) # Left Spin\n",
    "h3 = LazyTensor(basis, 3, ωa*sz) # Right Spin\n",
    "h4 = LazyTensor(basis, 4, ωc*n) # Right Cavity\n",
    "h12 = g2*LazyTensor(basis, [1,2], [a,sp])\n",
    "h21 = g2*LazyTensor(basis, [1,2], [at,sm]) # Left Cavity - Left Spin\n",
    "h23 = g1*LazyTensor(basis, [2,3], [sm,sp])\n",
    "h32 = g1*LazyTensor(basis, [2,3], [sp,sm]) # Left Spin - Middle Spin\n",
    "h34 = g2*LazyTensor(basis, [3,4], [sm,at])\n",
    "h43 = g2*LazyTensor(basis, [3,4], [sp,a]) # Right Spin - Right Cavity\n",
    "\n",
    "H = LazySum(h1, h2, h3, h4, h12, h21, h23, h32, h34, h43)\n",
    "\n",
    "j1 = LazyTensor(basis, 1, a) # Left Cavity\n",
    "j2 = LazyTensor(basis, 2, sm) # Left Spin\n",
    "j3 = LazyTensor(basis, 3, sm) # Right Spin\n",
    "j4 = LazyTensor(basis, 4, a) # Right Cavity\n",
    "\n",
    "J = [j1, j2, j3, j4];"
   ]
  },
  {
   "cell_type": "markdown",
   "metadata": {},
   "source": [
    "It can easily be verified that these are indeed the same as the previously defined sparse operators."
   ]
  },
  {
   "cell_type": "code",
   "execution_count": null,
   "metadata": {
    "collapsed": true
   },
   "outputs": [],
   "source": [
    "@assert sparse(H) == Hsparse\n",
    "for i in 1:4\n",
    "    @assert sparse(J[i]) == Jsparse[i]\n",
    "end"
   ]
  },
  {
   "cell_type": "markdown",
   "metadata": {},
   "source": [
    "Now we have to choose which correlations we want to include. A correlation is specified by a vector containing the indices of the involved subsystems. The mask function produces all correlations of a certain order."
   ]
  },
  {
   "cell_type": "code",
   "execution_count": null,
   "metadata": {
    "collapsed": true
   },
   "outputs": [],
   "source": [
    "S2 = ce.masks(4,2) # All pairwise correlations\n",
    "S3 = ce.masks(4,3) # All triple correlations\n",
    "\n",
    "S2_ = [[1,2], [1,3], [2,3], [2,4], [3,4]] # All pairwise correlations but the cavity-cavity correlation\n",
    "S3_ = [[1,2,3], [2,3,4]] # All triple correlations not containing both cavities;"
   ]
  },
  {
   "cell_type": "markdown",
   "metadata": {},
   "source": [
    "With these correlations we can create the corresponding correlation expansion states which then are used as initial condition. Again, we avoid calculating a dense operator defined in the total Hilbert space."
   ]
  },
  {
   "cell_type": "code",
   "execution_count": null,
   "metadata": {},
   "outputs": [],
   "source": [
    "Ψspin = spindown(spinbasis)\n",
    "Ψfock = fockstate(fockbasis, 0)\n",
    "ρspin = Ψspin ⊗ dagger(Ψspin)\n",
    "ρfock = Ψfock ⊗ dagger(Ψfock)\n",
    "\n",
    "operators = [ρfock, ρspin, ρspin, ρfock]\n",
    "\n",
    "ρce_order1 = ce.State(operators, []) # No correlations\n",
    "ρce_order2 = ce.State(operators, S2)\n",
    "ρce_select2 = ce.State(operators, S2_)\n",
    "ρce_order3 = ce.State(operators, S2 ∪ S3)\n",
    "ρce_select3 = ce.State(operators, S2_ ∪ S3_);"
   ]
  },
  {
   "cell_type": "markdown",
   "metadata": {},
   "source": [
    "The syntax to perform the time evolution is completely equivalent to the usual case."
   ]
  },
  {
   "cell_type": "code",
   "execution_count": null,
   "metadata": {},
   "outputs": [],
   "source": [
    "@time tout, ρce_order1_t = ce.master(T, ρce_order1, H, J; rates=Γ)\n",
    "@time tout, ρce_order2_t = ce.master(T, ρce_order2, H, J; rates=Γ)\n",
    "@time tout, ρce_select2_t = ce.master(T, ρce_select2, H, J; rates=Γ)\n",
    "@time tout, ρce_order3_t = ce.master(T, ρce_order3, H, J; rates=Γ)\n",
    "@time tout, ρce_select3_t = ce.master(T, ρce_select3, H, J; rates=Γ);"
   ]
  },
  {
   "cell_type": "markdown",
   "metadata": {},
   "source": [
    "We can now compare the different approaches"
   ]
  },
  {
   "cell_type": "code",
   "execution_count": null,
   "metadata": {},
   "outputs": [],
   "source": [
    "figure(figsize=[10,3])\n",
    "subplot(1,2,1)\n",
    "plot(tout, photons1(ρ_t), alpha=0.9)\n",
    "plot(tout, photons1(ρce_order1_t), \":\")\n",
    "plot(tout, photons1(ρce_order2_t), \"C2--\", alpha=0.5)\n",
    "plot(tout, photons1(ρce_select2_t), \"C2-.\", alpha=0.9)\n",
    "plot(tout, photons1(ρce_order3_t), \"C3--\", alpha=0.5)\n",
    "plot(tout, photons1(ρce_select3_t), \"C3-.\", alpha=0.9)\n",
    "\n",
    "\n",
    "subplot(1,2,2)\n",
    "plot(tout, photons2(ρ_t), alpha=0.9)\n",
    "plot(tout, photons2(ρce_order1_t), \":\")\n",
    "plot(tout, photons2(ρce_order2_t), \"C2--\", alpha=0.5)\n",
    "plot(tout, photons2(ρce_select2_t), \"C2-.\", alpha=0.9)\n",
    "plot(tout, photons2(ρce_order3_t), \"C3--\", alpha=0.5)\n",
    "plot(tout, photons2(ρce_select3_t), \"C3-.\", alpha=0.9);"
   ]
  },
  {
   "cell_type": "markdown",
   "metadata": {},
   "source": [
    "## Simulate the system for high photon numbers\n",
    "\n",
    "For the previous case where the cutoff of the cavity photons was chosen extremely small the correlation expansion approach was much slower. However, already"
   ]
  },
  {
   "cell_type": "code",
   "execution_count": null,
   "metadata": {},
   "outputs": [],
   "source": [
    "photons1_(ρ_t) = [real(expect(number(ρ_t[1].basis_l.bases[1]), ptrace(ρ, [2,3,4]))) for ρ in ρ_t]\n",
    "photons2_(ρ_t) = [real(expect(number(ρ_t[1].basis_l.bases[4]), ptrace(ρ, [1,2,3]))) for ρ in ρ_t];"
   ]
  },
  {
   "cell_type": "code",
   "execution_count": null,
   "metadata": {},
   "outputs": [],
   "source": [
    "function create_operators(params)\n",
    "    Ncutoff = params[\"Ncutoff\"]\n",
    "    ωc = params[\"ωc\"]\n",
    "    ωa = params[\"ωa\"]\n",
    "    η = params[\"η\"]\n",
    "    g1 = params[\"g1\"]\n",
    "    g2 = params[\"g2\"]\n",
    "    γ = params[\"γ\"]\n",
    "    κ1 = params[\"κ1\"]\n",
    "    κ2 = params[\"κ2\"]\n",
    "    Γ = [κ1, γ, γ, κ2]\n",
    "    \n",
    "    spinbasis = SpinBasis(1//2)\n",
    "    fockbasis = FockBasis(Ncutoff)\n",
    "    basis = fockbasis ⊗ spinbasis ⊗ spinbasis ⊗ fockbasis\n",
    "\n",
    "    sz = sigmaz(spinbasis)\n",
    "    sm = sigmam(spinbasis)\n",
    "    sp = sigmap(spinbasis)\n",
    "\n",
    "    a = destroy(fockbasis)\n",
    "    at = create(fockbasis)\n",
    "    n = at*a;\n",
    "    \n",
    "    H = LazySum(\n",
    "            LazyTensor(basis, 1, ωc*n + η*(a + at)), # Left Cavity\n",
    "            LazyTensor(basis, 2, ωa*sz), # Left Spin\n",
    "            LazyTensor(basis, 3, ωa*sz), # Right Spin\n",
    "            LazyTensor(basis, 4, ωc*n), # Right Cavity\n",
    "            g2*LazyTensor(basis, [1,2], [a,sp]), g2*LazyTensor(basis, [1,2], [at,sm]), # Left Cavity - Left Spin\n",
    "            g1*LazyTensor(basis, [2,3], [sm,sp]), g1*LazyTensor(basis, [2,3], [sp,sm]), # Left Spin - Middle Spin\n",
    "            g2*LazyTensor(basis, [3,4], [sm,at]), g2*LazyTensor(basis, [3,4], [sp,a]), # Right Spin - Right Cavity\n",
    "    )\n",
    "\n",
    "    J = LazyTensor[\n",
    "        LazyTensor(basis, 1, a), # Left Cavity\n",
    "        LazyTensor(basis, 2, sm), # Left Spin\n",
    "        LazyTensor(basis, 3, sm), # Right Spin\n",
    "        LazyTensor(basis, 4, a) # Right Cavity\n",
    "    ]\n",
    "    H, Γ, J\n",
    "end\n",
    "\n",
    "function create_initialstate(S, params)\n",
    "    spinbasis = SpinBasis(1//2)\n",
    "    fockbasis = FockBasis(params[\"Ncutoff\"])\n",
    "    basis = fockbasis ⊗ spinbasis ⊗ spinbasis ⊗ fockbasis\n",
    "    \n",
    "    Ψfock = fockstate(fockbasis, 0)\n",
    "    ρfock = Ψfock ⊗ dagger(Ψfock)\n",
    "    Ψspin = spindown(spinbasis)\n",
    "    ρspin = Ψspin ⊗ dagger(Ψspin)\n",
    "    ce.State([ρfock, ρspin, ρspin, ρfock], S)\n",
    "end\n",
    "\n",
    "function ce_timeevolution(S, params)\n",
    "    H, Γ, J = create_operators(params)\n",
    "    ρce = create_initialstate(S, params)\n",
    "    ce.master(params[\"T\"], ρce, H, J; rates=Γ)\n",
    "end;\n",
    "\n",
    "function sparse_timeevolution(params)\n",
    "    H, Γ, J = create_operators(params)\n",
    "    ρ = full(create_initialstate([], params))\n",
    "    timeevolution.master(params[\"T\"], ρ, sparse(H), [sparse(j) for j in J]; rates=Γ)\n",
    "end;"
   ]
  },
  {
   "cell_type": "code",
   "execution_count": null,
   "metadata": {},
   "outputs": [],
   "source": [
    "P = Dict(\n",
    "    \"Ncutoff\" => 3,\n",
    "    \"ωa\" => 0.1, # Spin transition frequency\n",
    "    \"ωc\" => 0.2, # Cavity frequency;\n",
    "    \"η\" => 1., # Pumping strength\n",
    "    \"g1\" => 0.5, # Coupling spin-spin\n",
    "    \"g2\" => 0.5, # Coupling spin-cavity\n",
    "    \"γ\" => 0.3, # Decay rate spin\n",
    "    \"κ1\" => 1., # Decay rate left cavity\n",
    "    \"κ2\" => 0.6, # Decay rate left cavity\n",
    "    \"T\" => [0:0.01:10;]\n",
    ");"
   ]
  },
  {
   "cell_type": "code",
   "execution_count": null,
   "metadata": {},
   "outputs": [],
   "source": [
    "P[\"Ncutoff\"] = 3\n",
    "\n",
    "@time tout, ρ_t = sparse_timeevolution(P);\n",
    "@time tout, ρce_order1_t = ce_timeevolution([], P);\n",
    "@time tout, ρce_order2_t = ce_timeevolution(S2, P);\n",
    "@time tout, ρce_select2_t = ce_timeevolution(S2_, P);\n",
    "@time tout, ρce_select3_t = ce_timeevolution(S2_ ∪ S3_, P);"
   ]
  },
  {
   "cell_type": "code",
   "execution_count": null,
   "metadata": {},
   "outputs": [],
   "source": [
    "P[\"Ncutoff\"] = 8\n",
    "\n",
    "@time tout, ρ_t = sparse_timeevolution(P);\n",
    "@time tout, ρce_order1_t = ce_timeevolution([], P);\n",
    "@time tout, ρce_order2_t = ce_timeevolution(S2, P);\n",
    "@time tout, ρce_select2_t = ce_timeevolution(S2_, P);\n",
    "@time tout, ρce_select3_t = ce_timeevolution(S2_ ∪ S3_, P);"
   ]
  },
  {
   "cell_type": "code",
   "execution_count": null,
   "metadata": {},
   "outputs": [],
   "source": [
    "P[\"Ncutoff\"] = 30\n",
    "\n",
    "@time tout, ρce_order1_t = ce_timeevolution([], P);\n",
    "# @time tout, ρce_order2_t = ce_timeevolution(S2, P);\n",
    "@time tout, ρce_select2_t = ce_timeevolution(S2_, P);\n",
    "@time tout, ρce_select3_t = ce_timeevolution(S2_ ∪ S3_, P);"
   ]
  },
  {
   "cell_type": "code",
   "execution_count": null,
   "metadata": {},
   "outputs": [],
   "source": [
    "figure(figsize=[10,3])\n",
    "subplot(1,2,1)\n",
    "plot(tout, photons1_(ρ_t), alpha=0.9)\n",
    "plot(tout, photons1_(ρce_order1_t), \":\")\n",
    "plot(tout, photons1_(ρce_order2_t), \"C2--\", alpha=0.5)\n",
    "plot(tout, photons1_(ρce_select2_t), \"C2-.\", alpha=0.9)\n",
    "# plot(tout, photons1(ρce_order3_t), \"C3--\", alpha=0.5)\n",
    "plot(tout, photons1_(ρce_select3_t), \"C3-.\", alpha=0.9)\n",
    "\n",
    "\n",
    "subplot(1,2,2)\n",
    "plot(tout, photons2_(ρ_t), alpha=0.9)\n",
    "plot(tout, photons2_(ρce_order1_t), \":\")\n",
    "plot(tout, photons2_(ρce_order2_t), \"C2--\", alpha=0.5)\n",
    "plot(tout, photons2_(ρce_select2_t), \"C2-.\", alpha=0.9)\n",
    "# plot(tout, photons2(ρce_order3_t), \"C3--\", alpha=0.5)\n",
    "plot(tout, photons2_(ρce_select3_t), \"C3-.\", alpha=0.9);"
   ]
  },
  {
   "cell_type": "code",
   "execution_count": null,
   "metadata": {
    "collapsed": true
   },
   "outputs": [],
   "source": []
  }
 ],
 "metadata": {
  "kernelspec": {
   "display_name": "Julia 0.6.0",
   "language": "julia",
   "name": "julia-0.6"
  },
  "language_info": {
   "file_extension": ".jl",
   "mimetype": "application/julia",
   "name": "julia",
   "version": "0.6.0"
  }
 },
 "nbformat": 4,
 "nbformat_minor": 2
}

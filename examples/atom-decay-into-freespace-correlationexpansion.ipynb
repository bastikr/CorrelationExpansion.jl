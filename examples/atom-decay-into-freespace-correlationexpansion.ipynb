{
 "cells": [
  {
   "cell_type": "code",
   "execution_count": null,
   "metadata": {
    "collapsed": true,
    "deletable": true,
    "editable": true
   },
   "outputs": [],
   "source": [
    "using QuantumOptics\n",
    "using PyPlot\n",
    "using CorrelationExpansion\n",
    "const ce = CorrelationExpansion;"
   ]
  },
  {
   "cell_type": "code",
   "execution_count": null,
   "metadata": {
    "collapsed": false,
    "deletable": true,
    "editable": true
   },
   "outputs": [],
   "source": [
    "xmin = -6\n",
    "xmax = 6\n",
    "Npoints = 100\n",
    "L = xmax - xmin\n",
    "dx = L/Npoints\n",
    "xpoints = [xmin:dx:xmax-dx;]\n",
    "\n",
    "index_coupling = Int(floor(Npoints/2))\n",
    "\n",
    "g = 1/2dx\n",
    "g_atom = 0.4g;"
   ]
  },
  {
   "cell_type": "code",
   "execution_count": null,
   "metadata": {
    "collapsed": false,
    "deletable": true,
    "editable": true
   },
   "outputs": [],
   "source": [
    "b_atom = NLevelBasis(2)\n",
    "t21 = transition(b_atom, 2, 1)\n",
    "t12 = transition(b_atom, 1, 2)\n",
    "\n",
    "b_fock = FockBasis(1)\n",
    "a = destroy(b_fock)\n",
    "at = create(b_fock)\n",
    "n = number(b_fock)\n",
    "\n",
    "b_space = tensor([b_fock for i=1:Npoints]...)\n",
    "b = b_atom ⊗ b_space\n",
    "\n",
    "H = LazyTensor[]\n",
    "for i=2:Npoints\n",
    "    push!(H, g*LazyTensor(b, [i, i+1], [at, a]))\n",
    "    push!(H, g*LazyTensor(b, [i, i+1], [a, at]))\n",
    "    \n",
    "end\n",
    "\n",
    "push!(H, g_atom*LazyTensor(b, [1, index_coupling+1], [t21, a]))\n",
    "push!(H, g_atom*LazyTensor(b, [1, index_coupling+1], [t12, at]))\n",
    "\n",
    "H = LazySum(H...)\n",
    "J = LazyTensor[];"
   ]
  },
  {
   "cell_type": "code",
   "execution_count": null,
   "metadata": {
    "collapsed": false,
    "deletable": true,
    "editable": true
   },
   "outputs": [],
   "source": [
    "# S_space = [[i, i+1] for i=2:Npoints-1]\n",
    "# S = [[1, index_coupling+1]] ∪ S_space\n",
    "S = Vector{Int}[]\n",
    "\n",
    "vac = fockstate(b_fock, 0) ⊗ dagger(fockstate(b_fock, 0))\n",
    "ρ0_space = [vac for i=1:Npoints]\n",
    "\n",
    "psi_e = nlevelstate(b_atom, 2)\n",
    "psi_g = nlevelstate(b_atom, 1)\n",
    "psi = normalize(psi_e + psi_g)\n",
    "ρ0_atom = psi ⊗ dagger(psi)\n",
    "\n",
    "operators = [ρ0_atom; ρ0_space]\n",
    "ρ0 = ce.CEOperator(operators, S);\n",
    "\n",
    "T = [0:1.:5;]\n",
    "tout, ρt_ce = ce.master(T, ρ0, H, J);"
   ]
  },
  {
   "cell_type": "code",
   "execution_count": null,
   "metadata": {
    "collapsed": false,
    "deletable": true,
    "editable": true
   },
   "outputs": [],
   "source": [
    "for i_t=2:length(T)\n",
    "    subplot(length(T), 1, i_t)\n",
    "    plot(xpoints, [expect(i+1, n, ρt_ce[i_t]) for i=1:Npoints])\n",
    "end"
   ]
  },
  {
   "cell_type": "code",
   "execution_count": null,
   "metadata": {
    "collapsed": false,
    "deletable": true,
    "editable": true
   },
   "outputs": [],
   "source": [
    "plot(T, expect(1, psi_e⊗dagger(psi_e), ρt_ce))"
   ]
  },
  {
   "cell_type": "code",
   "execution_count": null,
   "metadata": {
    "collapsed": true
   },
   "outputs": [],
   "source": []
  }
 ],
 "metadata": {
  "kernelspec": {
   "display_name": "Julia 0.5.1",
   "language": "julia",
   "name": "julia-0.5"
  },
  "language_info": {
   "file_extension": ".jl",
   "mimetype": "application/julia",
   "name": "julia",
   "version": "0.5.1"
  }
 },
 "nbformat": 4,
 "nbformat_minor": 2
}
